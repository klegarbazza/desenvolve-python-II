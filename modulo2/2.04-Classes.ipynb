{
 "cells": [
  {
   "cell_type": "markdown",
   "metadata": {},
   "source": [
    "> Projeto Desenvolve <br>\n",
    "Programação Intermediária com Python <br>\n",
    "Profa. Camila Laranjeira (mila@projetodesenvolve.com.br) <br>\n",
    "\n",
    "# 2.4 - Classes, atributos e métodos"
   ]
  },
  {
   "cell_type": "markdown",
   "metadata": {},
   "source": [
    "## Exercícios\n",
    "\n",
    "#### Q1.\n",
    "Vamos criar aos pouquinhos uma classe Evento que registra eventos de um calendário. Pra começar, nessa questão você deve:\n",
    "\n",
    "* Criar uma classe chamada Evento\n",
    "* Adicionar um atributo de classe `total_eventos` que será usado para contar o número total de eventos (instâncias de classe) criadas.\n",
    "* Implemente o método construtor que deve receber os parâmetros `titulo` (`string`), `data_hora` (`datetime`), `descrição` (`string`). Crie e inicialize um atributo de instância para cada um dos parâmetros citados.\n",
    "* O construtor também deve inicializar um atributo de instância `is_concluido = False`. Esse atributo será utilizado mais à frente. \n",
    "* No construtor você também deve incrementar o atributo de classe `total_eventos` em 1 a cada nova instância criada.\n",
    "\n",
    "Teste o seu código criando duas diferentes instâncias de evento (preencha os atributos como quiser) e imprimindo todos os seus atributos (de classe e de instância).\n",
    "\n",
    "> Consulte [este tutorial biblioteca `datetime`](https://www.w3schools.com/python/python_datetime.asp) caso não esteja familiarizado."
   ]
  },
  {
   "cell_type": "code",
   "execution_count": 2,
   "metadata": {},
   "outputs": [
    {
     "name": "stdout",
     "output_type": "stream",
     "text": [
      "Evento 1:\n",
      "Título: Reunião\n",
      "Data e Hora: 2023-10-15 14:30:00\n",
      "Descrição: Reunião com a equipe de projeto\n",
      "Concluído: False\n",
      "\n",
      "Evento 2:\n",
      "Título: Aniversário\n",
      "Data e Hora: 2023-11-20 18:00:00\n",
      "Descrição: Festa de aniversário do amigo\n",
      "Concluído: False\n",
      "\n",
      "Total de eventos: 2\n"
     ]
    }
   ],
   "source": [
    "### Escreva seu código aqui\n",
    "\n",
    "from datetime import datetime\n",
    "\n",
    "class Evento:\n",
    "    total_eventos = 0\n",
    "\n",
    "    def __init__(self, titulo, data_hora, descricao):\n",
    "        self.titulo = titulo\n",
    "        self.data_hora = data_hora\n",
    "        self.descricao = descricao\n",
    "        self.is_concluido = False\n",
    "        Evento.total_eventos += 1\n",
    "\n",
    "evento1 = Evento(\"Reunião\", datetime(2023, 10, 15, 14, 30), \"Reunião com a equipe de projeto\")\n",
    "evento2 = Evento(\"Aniversário\", datetime(2023, 11, 20, 18, 0), \"Festa de aniversário do amigo\")\n",
    "\n",
    "print(\"Evento 1:\")\n",
    "print(\"Título:\", evento1.titulo)\n",
    "print(\"Data e Hora:\", evento1.data_hora)\n",
    "print(\"Descrição:\", evento1.descricao)\n",
    "print(\"Concluído:\", evento1.is_concluido)\n",
    "\n",
    "print(\"\\nEvento 2:\")\n",
    "print(\"Título:\", evento2.titulo)\n",
    "print(\"Data e Hora:\", evento2.data_hora)\n",
    "print(\"Descrição:\", evento2.descricao)\n",
    "print(\"Concluído:\", evento2.is_concluido)\n",
    "\n",
    "print(\"\\nTotal de eventos:\", Evento.total_eventos)"
   ]
  },
  {
   "cell_type": "markdown",
   "metadata": {},
   "source": [
    "#### Q2.\n",
    "Agora vamos adicionar métodos à nossa classe. Lembre dos diferentes decoradores que aprendemos. Você deve redefinir a classe com os seguintes métodos:\n",
    "* Um método `isConcluido()` que avalia se a `data_hora` do evento é menor que `datetime.now()` (a data e hora atual). Em caso positivo, atualiza o atributo de instância `is_concluido` para o valor `True`. \n",
    "* Um método de classe `num_eventos()` que retorna o valor do atributo de classe `total_eventos`.\n",
    "* Um método estático `valida_evento(nome, data_hora, descricao)` que recebe os atributos de um evento e testa os tipos de cada variável, retornando `True` caso todos estejam corretos e `False` caso contrário. Para o teste, use a função nativa do Python [`isinstance`](https://www.w3schools.com/python/ref_func_isinstance.asp).\n",
    "\n",
    "Para testar sua classe atualizada:\n",
    "* Crie uma instância de Evento com valor passado e chame o método `isConcluido()` para a instância criada. Em seguida imprima o atributo `is_concluido`. \n",
    "* Invoque o método de classe `num_eventos()` a partir da classe Evento (ou seja, sem criar nenhuma instância).\n",
    "* Chame o método estático `valida_evento()` a partir da classe Evento. Experimente passar valores corretos e incorretos. \n"
   ]
  },
  {
   "cell_type": "code",
   "execution_count": 1,
   "metadata": {},
   "outputs": [
    {
     "name": "stdout",
     "output_type": "stream",
     "text": [
      "Is Concluído: True\n",
      "Total de eventos: 1\n",
      "Validação evento correto: True\n",
      "Validação evento incorreto: False\n"
     ]
    }
   ],
   "source": [
    "from datetime import datetime\n",
    "\n",
    "class Evento:\n",
    "    total_eventos = 0\n",
    "\n",
    "    def __init__(self, titulo, data_hora, descricao):\n",
    "        self.titulo = titulo\n",
    "        self.data_hora = data_hora\n",
    "        self.descricao = descricao\n",
    "        self.is_concluido = False\n",
    "        Evento.total_eventos += 1\n",
    "\n",
    "    def isConcluido(self):\n",
    "        if self.data_hora < datetime.now():\n",
    "            self.is_concluido = True\n",
    "\n",
    "    @classmethod\n",
    "    def num_eventos(cls):\n",
    "        return cls.total_eventos\n",
    "\n",
    "    @staticmethod\n",
    "    def valida_evento(titulo, data_hora, descricao):\n",
    "        return isinstance(titulo, str) and isinstance(data_hora, datetime) and isinstance(descricao, str)\n",
    "\n",
    "evento1 = Evento(\"Reunião\", datetime(2023, 10, 15, 14, 30), \"Reunião com a equipe de projeto\")\n",
    "evento1.isConcluido()\n",
    "print(\"Is Concluído:\", evento1.is_concluido)\n",
    "\n",
    "print(\"Total de eventos:\", Evento.num_eventos())\n",
    "\n",
    "print(\"Validação evento correto:\", Evento.valida_evento(\"Aniversário\", datetime(2023, 11, 20, 18, 0), \"Festa de aniversário do amigo\"))\n",
    "print(\"Validação evento incorreto:\", Evento.valida_evento(123, \"2023-11-20\", 456))"
   ]
  },
  {
   "cell_type": "markdown",
   "metadata": {
    "vscode": {
     "languageId": "plaintext"
    }
   },
   "source": [
    "#### Q3.\n",
    "\n",
    "Vamos incluir métodos mágicos! ✨🪄🔮\n",
    "\n",
    "Redefina a classe incluindo\":\n",
    "* Método `__str__` que imprime os atributos do evento na forma `\"Evento: titulo, Data: data_hora, Descrição: descricao, Concluido: is_concluido\"`.\n",
    "* Implemente os métodos de comparação `__eq__`, `__ne__`, `__lt__`, `__le__`, `__gt__` e `__ge__` para comparar eventos baseados no atributo `data_hora`. Esses métodos devem comparar duas instâncias de Evento e retornar os resultados apropriados (`True` ou `False`).\n",
    "\n",
    "Para testar, crie duas instâncias de Evento com datas diferentes. Imprima as instâncias com a função `print()` e apresente o resultado das comparações entre eventos (`==`, `!=`, `<`, `<=`, `>`, `>=`)."
   ]
  },
  {
   "cell_type": "code",
   "execution_count": 3,
   "metadata": {},
   "outputs": [
    {
     "name": "stdout",
     "output_type": "stream",
     "text": [
      "Evento: Reunião, Data: 2023-10-15 14:30:00, Descrição: Reunião com a equipe de projeto, Concluido: False\n",
      "Evento: Aniversário, Data: 2023-11-20 18:00:00, Descrição: Festa de aniversário do amigo, Concluido: False\n",
      "Evento 1 == Evento 2: False\n",
      "Evento 1 != Evento 2: True\n",
      "Evento 1 < Evento 2: True\n",
      "Evento 1 <= Evento 2: True\n",
      "Evento 1 > Evento 2: False\n",
      "Evento 1 >= Evento 2: False\n"
     ]
    }
   ],
   "source": [
    "from datetime import datetime\n",
    "\n",
    "class Evento:\n",
    "    total_eventos = 0\n",
    "\n",
    "    def __init__(self, titulo, data_hora, descricao):\n",
    "        self.titulo = titulo\n",
    "        self.data_hora = data_hora\n",
    "        self.descricao = descricao\n",
    "        self.is_concluido = False\n",
    "        Evento.total_eventos += 1\n",
    "\n",
    "    def isConcluido(self):\n",
    "        if self.data_hora < datetime.now():\n",
    "            self.is_concluido = True\n",
    "\n",
    "    @classmethod\n",
    "    def num_eventos(cls):\n",
    "        return cls.total_eventos\n",
    "\n",
    "    @staticmethod\n",
    "    def valida_evento(titulo, data_hora, descricao):\n",
    "        return isinstance(titulo, str) and isinstance(data_hora, datetime) and isinstance(descricao, str)\n",
    "\n",
    "    def __str__(self):\n",
    "        return f\"Evento: {self.titulo}, Data: {self.data_hora}, Descrição: {self.descricao}, Concluido: {self.is_concluido}\"\n",
    "\n",
    "    def __eq__(self, other):\n",
    "        return self.data_hora == other.data_hora\n",
    "\n",
    "    def __ne__(self, other):\n",
    "        return self.data_hora != other.data_hora\n",
    "\n",
    "    def __lt__(self, other):\n",
    "        return self.data_hora < other.data_hora\n",
    "\n",
    "    def __le__(self, other):\n",
    "        return self.data_hora <= other.data_hora\n",
    "\n",
    "    def __gt__(self, other):\n",
    "        return self.data_hora > other.data_hora\n",
    "\n",
    "    def __ge__(self, other):\n",
    "        return self.data_hora >= other.data_hora\n",
    "\n",
    "evento1 = Evento(\"Reunião\", datetime(2023, 10, 15, 14, 30), \"Reunião com a equipe de projeto\")\n",
    "evento2 = Evento(\"Aniversário\", datetime(2023, 11, 20, 18, 0), \"Festa de aniversário do amigo\")\n",
    "\n",
    "print(evento1)\n",
    "print(evento2)\n",
    "\n",
    "print(\"Evento 1 == Evento 2:\", evento1 == evento2)\n",
    "print(\"Evento 1 != Evento 2:\", evento1 != evento2)\n",
    "print(\"Evento 1 < Evento 2:\", evento1 < evento2)\n",
    "print(\"Evento 1 <= Evento 2:\", evento1 <= evento2)\n",
    "print(\"Evento 1 > Evento 2:\", evento1 > evento2)\n",
    "print(\"Evento 1 >= Evento 2:\", evento1 >= evento2)"
   ]
  }
 ],
 "metadata": {
  "kernelspec": {
   "display_name": "Python 3",
   "language": "python",
   "name": "python3"
  },
  "language_info": {
   "codemirror_mode": {
    "name": "ipython",
    "version": 3
   },
   "file_extension": ".py",
   "mimetype": "text/x-python",
   "name": "python",
   "nbconvert_exporter": "python",
   "pygments_lexer": "ipython3",
   "version": "3.13.0"
  }
 },
 "nbformat": 4,
 "nbformat_minor": 2
}
